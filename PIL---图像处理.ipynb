{
 "cells": [
  {
   "cell_type": "code",
   "execution_count": 4,
   "metadata": {},
   "outputs": [],
   "source": [
    "from PIL import Image,ImageDraw,ImageFont,ImageFilter\n",
    "import random\n",
    "\n",
    "#生成随机字母\n",
    "def rndchr():\n",
    "    return chr(random.randint(65,90))\n",
    "#生成随机颜色1\n",
    "def rndcolor1():\n",
    "    return (random.randint(64,255),random.randint(64,255),random.randint(64,255))\n",
    "#生成随机颜色2\n",
    "def rndcolor2():\n",
    "    return (random.randint(32,127),random.randint(32,127),random.randint(32,127))\n",
    "\n",
    "width = 60*4\n",
    "height = 60\n",
    "\n",
    "image = Image.new('RGB',(width,height),(255,255,255))\n",
    "# 创建Font对象:\n",
    "font = ImageFont.truetype('arial.ttf', 36)\n",
    "# 创建Draw对象:\n",
    "draw = ImageDraw.Draw(image)\n",
    "# 填充每个像素:\n",
    "for x in range(width):\n",
    "    for y in range(height):\n",
    "        draw.point((x, y), fill=rndcolor1())\n",
    "# 输出文字:\n",
    "for t in range(4):\n",
    "    draw.text((60 * t + 10, 10), rndchr(), font=font, fill=rndcolor2())\n",
    "# 模糊:\n",
    "image = image.filter(ImageFilter.BLUR)\n",
    "image.save('code.jpg', 'jpeg')"
   ]
  },
  {
   "cell_type": "code",
   "execution_count": 19,
   "metadata": {},
   "outputs": [],
   "source": [
    "from PIL import Image,ImageDraw,ImageFont,ImageFilter\n",
    "import random\n",
    "\n",
    "#生成随机字母\n",
    "def rndchr():\n",
    "    return chr(random.randint(65,90))\n",
    "#生成随机颜色1\n",
    "def rndcolor1():\n",
    "    return (random.randint(64,255),random.randint(64,255),random.randint(64,255))\n",
    "#生成随机颜色2\n",
    "def rndcolor2():\n",
    "    return (random.randint(32,127),random.randint(32,127),random.randint(32,127))\n",
    "\n",
    "#创建图像\n",
    "width = 100*4\n",
    "height = 100\n",
    "im = Image.new('RGB',(width,height),(255,255,255))\n",
    "#创建一个绘画对象\n",
    "draw = ImageDraw.Draw(im)\n",
    "#创建一个字体对象\n",
    "font = ImageFont.truetype('arial.ttf',50)\n",
    "# 填充每个像素:\n",
    "for x in range(width):\n",
    "    for y in range(height):\n",
    "        draw.point((x, y), fill=rndcolor1())\n",
    "#输出文字\n",
    "for x in range(4):\n",
    "    draw.text((100 * x + 50,25),rndchr(),font = font,fill = rndcolor2())\n",
    "im = im.filter(ImageFilter.BLUR)\n",
    "im.show()"
   ]
  }
 ],
 "metadata": {
  "kernelspec": {
   "display_name": "Python 3",
   "language": "python",
   "name": "python3"
  },
  "language_info": {
   "codemirror_mode": {
    "name": "ipython",
    "version": 3
   },
   "file_extension": ".py",
   "mimetype": "text/x-python",
   "name": "python",
   "nbconvert_exporter": "python",
   "pygments_lexer": "ipython3",
   "version": "3.7.0"
  }
 },
 "nbformat": 4,
 "nbformat_minor": 2
}
