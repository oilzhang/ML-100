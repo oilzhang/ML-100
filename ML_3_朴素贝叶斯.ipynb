{
 "cells": [
  {
   "cell_type": "code",
   "execution_count": 1,
   "metadata": {},
   "outputs": [
    {
     "data": {
      "text/plain": [
       "array([[138,  19],\n",
       "       [ 36,  38]], dtype=int64)"
      ]
     },
     "execution_count": 1,
     "metadata": {},
     "output_type": "execute_result"
    }
   ],
   "source": [
    "#导入数据集\n",
    "import pandas as pd\n",
    "datasets = pd.read_csv('pima-indians-diabetes.data.csv',header = None)\n",
    "#datasets.head()\n",
    "\n",
    "#取特征变量及目标值\n",
    "X = datasets.iloc[:,:8].values\n",
    "y = datasets.iloc[:,8].values\n",
    "\n",
    "#划分训练集及测试集\n",
    "from sklearn.model_selection import train_test_split\n",
    "X_train,X_test,y_train,y_test = train_test_split(X,y,test_size = 0.3,random_state =0)\n",
    "\n",
    "#特征缩放\n",
    "from sklearn.preprocessing import StandardScaler\n",
    "sc = StandardScaler()\n",
    "X_train = sc.fit_transform(X_train)\n",
    "X_test = sc.transform(X_test)\n",
    "\n",
    "#使用朴素贝叶斯算法训练数据\n",
    "from sklearn.naive_bayes import GaussianNB  #高斯朴素贝叶斯\n",
    "gnb = GaussianNB()\n",
    "gnb.fit(X_train,y_train)\n",
    "\n",
    "#进行预测\n",
    "y_pre = gnb.predict(X_test)\n",
    "\n",
    "#模型评估\n",
    "from sklearn.metrics import accuracy_score,confusion_matrix\n",
    "accuracy_score(y_test, y_pre)\n",
    "confusion_matrix(y_test, y_pre)"
   ]
  },
  {
   "cell_type": "code",
   "execution_count": 2,
   "metadata": {},
   "outputs": [
    {
     "data": {
      "text/plain": [
       "array([[157,   0],\n",
       "       [ 74,   0]], dtype=int64)"
      ]
     },
     "execution_count": 2,
     "metadata": {},
     "output_type": "execute_result"
    }
   ],
   "source": [
    "#导入数据集\n",
    "import pandas as pd\n",
    "datasets = pd.read_csv('pima-indians-diabetes.data.csv',header = None)\n",
    "#datasets.head()\n",
    "\n",
    "#取特征变量及目标值\n",
    "X = datasets.iloc[:,:8].values\n",
    "y = datasets.iloc[:,8].values\n",
    "\n",
    "#划分训练集及测试集\n",
    "from sklearn.model_selection import train_test_split\n",
    "X_train,X_test,y_train,y_test = train_test_split(X,y,test_size = 0.3,random_state =0)\n",
    "\n",
    "#特征缩放\n",
    "from sklearn.preprocessing import MinMaxScaler #特征缩放到【0,1】之间\n",
    "sc = MinMaxScaler()\n",
    "X_train = sc.fit_transform(X_train)\n",
    "X_test = sc.transform(X_test)\n",
    "\n",
    "#使用朴素贝叶斯算法训练数据\n",
    "from sklearn.naive_bayes import MultinomialNB  #多项分布朴素贝叶斯\n",
    "mnb = MultinomialNB()\n",
    "mnb.fit(X_train,y_train)\n",
    "\n",
    "#进行预测\n",
    "y_pre = mnb.predict(X_test)\n",
    "\n",
    "#模型评估\n",
    "from sklearn.metrics import accuracy_score,confusion_matrix\n",
    "accuracy_score(y_test, y_pre)\n",
    "confusion_matrix(y_test, y_pre)"
   ]
  },
  {
   "cell_type": "code",
   "execution_count": 3,
   "metadata": {},
   "outputs": [
    {
     "data": {
      "text/plain": [
       "array([[130,  27],\n",
       "       [ 36,  38]], dtype=int64)"
      ]
     },
     "execution_count": 3,
     "metadata": {},
     "output_type": "execute_result"
    }
   ],
   "source": [
    "#导入数据集\n",
    "import pandas as pd\n",
    "datasets = pd.read_csv('pima-indians-diabetes.data.csv',header = None)\n",
    "#datasets.head()\n",
    "\n",
    "#取特征变量及目标值\n",
    "X = datasets.iloc[:,:8].values\n",
    "y = datasets.iloc[:,8].values\n",
    "\n",
    "#划分训练集及测试集\n",
    "from sklearn.model_selection import train_test_split\n",
    "X_train,X_test,y_train,y_test = train_test_split(X,y,test_size = 0.3,random_state =0)\n",
    "\n",
    "#特征缩放\n",
    "from sklearn.preprocessing import StandardScaler\n",
    "sc = StandardScaler()\n",
    "X_train = sc.fit_transform(X_train)\n",
    "X_test = sc.transform(X_test)\n",
    "\n",
    "#使用朴素贝叶斯算法训练数据\n",
    "from sklearn.naive_bayes import BernoulliNB  #伯努利朴素贝叶斯\n",
    "bnb = BernoulliNB()\n",
    "bnb.fit(X_train,y_train)\n",
    "\n",
    "#进行预测\n",
    "y_pre = bnb.predict(X_test)\n",
    "\n",
    "#模型评估\n",
    "from sklearn.metrics import accuracy_score,confusion_matrix\n",
    "accuracy_score(y_test, y_pre)\n",
    "confusion_matrix(y_test, y_pre)"
   ]
  }
 ],
 "metadata": {
  "kernelspec": {
   "display_name": "Python 3",
   "language": "python",
   "name": "python3"
  },
  "language_info": {
   "codemirror_mode": {
    "name": "ipython",
    "version": 3
   },
   "file_extension": ".py",
   "mimetype": "text/x-python",
   "name": "python",
   "nbconvert_exporter": "python",
   "pygments_lexer": "ipython3",
   "version": "3.7.0"
  }
 },
 "nbformat": 4,
 "nbformat_minor": 2
}
